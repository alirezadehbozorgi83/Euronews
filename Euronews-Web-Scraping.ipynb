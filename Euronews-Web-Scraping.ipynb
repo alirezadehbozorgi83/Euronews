{
  "nbformat": 4,
  "nbformat_minor": 0,
  "metadata": {
    "colab": {
      "provenance": []
    },
    "kernelspec": {
      "name": "python3",
      "display_name": "Python 3"
    },
    "language_info": {
      "name": "python"
    }
  },
  "cells": [
    {
      "cell_type": "code",
      "execution_count": 2,
      "metadata": {
        "colab": {
          "base_uri": "https://localhost:8080/"
        },
        "id": "9m3OanIXzToy",
        "outputId": "55e7c9f3-5136-4997-e338-3830b9cc473e"
      },
      "outputs": [
        {
          "output_type": "stream",
          "name": "stdout",
          "text": [
            "Looking in indexes: https://pypi.org/simple, https://us-python.pkg.dev/colab-wheels/public/simple/\n",
            "Requirement already satisfied: nltk in /usr/local/lib/python3.10/dist-packages (3.8.1)\n",
            "Requirement already satisfied: click in /usr/local/lib/python3.10/dist-packages (from nltk) (8.1.3)\n",
            "Requirement already satisfied: joblib in /usr/local/lib/python3.10/dist-packages (from nltk) (1.2.0)\n",
            "Requirement already satisfied: regex>=2021.8.3 in /usr/local/lib/python3.10/dist-packages (from nltk) (2022.10.31)\n",
            "Requirement already satisfied: tqdm in /usr/local/lib/python3.10/dist-packages (from nltk) (4.65.0)\n"
          ]
        }
      ],
      "source": [
        "# Install the NLTK Library\n",
        "!pip install nltk"
      ]
    },
    {
      "cell_type": "code",
      "source": [
        "# Import necessary modules and libraries\n",
        "import requests\n",
        "from bs4 import BeautifulSoup\n",
        "import nltk\n",
        "nltk.download('punkt')\n",
        "nltk.download('averaged_perceptron_tagger')"
      ],
      "metadata": {
        "colab": {
          "base_uri": "https://localhost:8080/"
        },
        "id": "mm5_oYlMzhMt",
        "outputId": "72354e7d-92cc-4816-fbc5-802f331a50e7"
      },
      "execution_count": 5,
      "outputs": [
        {
          "output_type": "stream",
          "name": "stderr",
          "text": [
            "[nltk_data] Downloading package punkt to /root/nltk_data...\n",
            "[nltk_data]   Package punkt is already up-to-date!\n",
            "[nltk_data] Downloading package averaged_perceptron_tagger to\n",
            "[nltk_data]     /root/nltk_data...\n",
            "[nltk_data]   Unzipping taggers/averaged_perceptron_tagger.zip.\n"
          ]
        },
        {
          "output_type": "execute_result",
          "data": {
            "text/plain": [
              "True"
            ]
          },
          "metadata": {},
          "execution_count": 5
        }
      ]
    },
    {
      "cell_type": "code",
      "source": [
        "# Open a session to the URL and retrieve the HTML code using requests\n",
        "url = \"https://www.euronews.com/2023/05/19/ukraines-president-zelenskyy-to-attend-g7-in-japan-as-hiroshima-summit-begins\"\n",
        "session = requests.Session()\n",
        "html = session.get(url).content"
      ],
      "metadata": {
        "id": "AgHswPaD0qaW"
      },
      "execution_count": 6,
      "outputs": []
    },
    {
      "cell_type": "code",
      "source": [
        "# Parse the HTML code using Beautiful Soup\n",
        "soup = BeautifulSoup(html, \"html.parser\") "
      ],
      "metadata": {
        "id": "va99Y-94zk3k"
      },
      "execution_count": 7,
      "outputs": []
    },
    {
      "cell_type": "code",
      "source": [
        "# Extract the text from the HTML file and preprocess it\n",
        "text = soup.get_text()\n",
        "tokens = nltk.word_tokenize(text)"
      ],
      "metadata": {
        "id": "2sKikIEa0w8_"
      },
      "execution_count": 8,
      "outputs": []
    },
    {
      "cell_type": "code",
      "source": [
        "# Use NLTK to tag the words with their respective POS tags\n",
        "pos_tags = nltk.pos_tag(tokens)"
      ],
      "metadata": {
        "id": "EVKd92ou01r6"
      },
      "execution_count": 9,
      "outputs": []
    },
    {
      "cell_type": "code",
      "source": [
        "# Create a list of verbs by using list comprehension to filter words with verb POS tags\n",
        "verbs = [word for word, pos in pos_tags if pos == \"VB\" or pos == \"VBD\" or pos == \"VBG\" or pos == \"VBN\" or pos == \"VBP\" or pos == \"VBZ\"]\n",
        "verb_count = len(verbs)\n",
        "print(\"Number of verbs: \", verb_count)\n",
        "verbs = [word for word, pos in pos_tags if pos.startswith('VB')]"
      ],
      "metadata": {
        "colab": {
          "base_uri": "https://localhost:8080/"
        },
        "id": "lBTkPiI906f3",
        "outputId": "410449d5-c3a7-4446-aabe-75448ae49631"
      },
      "execution_count": 14,
      "outputs": [
        {
          "output_type": "stream",
          "name": "stdout",
          "text": [
            "Number of verbs:  92\n"
          ]
        }
      ]
    },
    {
      "cell_type": "code",
      "source": [
        "# Count the number of verbs in the list by using the len() function\n",
        "num_verbs = len(verbs)"
      ],
      "metadata": {
        "id": "lhuDZPoN1Fnh"
      },
      "execution_count": 11,
      "outputs": []
    },
    {
      "cell_type": "code",
      "source": [
        "# Print the number of verbs\n",
        "print(\"Number of verbs: \", verb_count)"
      ],
      "metadata": {
        "colab": {
          "base_uri": "https://localhost:8080/"
        },
        "id": "PtmpGZAi1MlD",
        "outputId": "dd950870-be5f-4f33-f1cd-870c51087a3f"
      },
      "execution_count": 15,
      "outputs": [
        {
          "output_type": "stream",
          "name": "stdout",
          "text": [
            "Number of verbs:  92\n"
          ]
        }
      ]
    },
    {
      "cell_type": "code",
      "source": [
        "# Close the session at the end\n",
        "session.close()"
      ],
      "metadata": {
        "id": "FiuFsage1QRK"
      },
      "execution_count": 16,
      "outputs": []
    },
    {
      "cell_type": "markdown",
      "source": [
        "### How to visualize *probability distributions* of a sample Text from Euronews: \n",
        "https://www.euronews.com/2023/05/19/ukraines-president-zelenskyy-to-attend-g7-in-japan-as-hiroshima-summit-begins"
      ],
      "metadata": {
        "id": "9TCa-QMe120s"
      }
    },
    {
      "cell_type": "code",
      "source": [
        "# Import necessary libraries and modules\n",
        "import requests\n",
        "from bs4 import BeautifulSoup\n",
        "import nltk\n",
        "import matplotlib.pyplot as plt"
      ],
      "metadata": {
        "id": "5bxP7W6-11Wa"
      },
      "execution_count": 17,
      "outputs": []
    },
    {
      "cell_type": "code",
      "source": [
        "# Open a session to the URL and retrieve the HTML code using requests\n",
        "url = \"https://www.euronews.com/2023/05/19/ukraines-president-zelenskyy-to-attend-g7-in-japan-as-hiroshima-summit-begins\"\n",
        "session = requests.Session()\n",
        "html = session.get(url).content"
      ],
      "metadata": {
        "id": "E4Q9Dpbj29EX"
      },
      "execution_count": 18,
      "outputs": []
    },
    {
      "cell_type": "code",
      "source": [
        "# Parse the HTML code using Beautiful Soup\n",
        "soup = BeautifulSoup(html, \"html.parser\")"
      ],
      "metadata": {
        "id": "HtE69RcG23n-"
      },
      "execution_count": 19,
      "outputs": []
    },
    {
      "cell_type": "code",
      "source": [
        "# Parse the HTML code using Beautiful Soup\n",
        "soup = BeautifulSoup(html, \"html.parser\")"
      ],
      "metadata": {
        "id": "oRZjhXN_3Cxq"
      },
      "execution_count": 20,
      "outputs": []
    },
    {
      "cell_type": "code",
      "source": [
        "# Extract the text from the HTML file and preprocess it\n",
        "text = soup.get_text()\n",
        "tokens = nltk.word_tokenize(text)"
      ],
      "metadata": {
        "id": "i1nZdevM3HAB"
      },
      "execution_count": 21,
      "outputs": []
    },
    {
      "cell_type": "code",
      "source": [
        "# Use NLTK to tag the words with their respective POS tags\n",
        "pos_tags = nltk.pos_tag(tokens)"
      ],
      "metadata": {
        "id": "8qgw_zQB3Hpi"
      },
      "execution_count": 22,
      "outputs": []
    },
    {
      "cell_type": "code",
      "source": [
        "# Create a frequency distribution of POS tags using FreqDist class provided by NLTK\n",
        "pos_freq = nltk.FreqDist(pos[1] for pos in pos_tags)"
      ],
      "metadata": {
        "id": "DnyWQU5q3PP7"
      },
      "execution_count": 23,
      "outputs": []
    },
    {
      "cell_type": "code",
      "source": [
        "# Plot the frequency distribution using matplotlib\n",
        "plt.figure(figsize=(10,5))\n",
        "pos_freq.plot()\n",
        "plt.show()"
      ],
      "metadata": {
        "colab": {
          "base_uri": "https://localhost:8080/",
          "height": 366
        },
        "id": "ArmgpG5h3Re3",
        "outputId": "fa668023-cc4d-4dd1-a159-646e76f11a4a"
      },
      "execution_count": 24,
      "outputs": [
        {
          "output_type": "display_data",
          "data": {
            "text/plain": [
              "<Figure size 1000x500 with 1 Axes>"
            ],
            "image/png": "[encoded data removed]"
          },
          "metadata": {}
        }
      ]
    },
    {
      "cell_type": "code",
      "source": [
        "# Close the session at the end\n",
        "session.close()"
      ],
      "metadata": {
        "id": "NXMdWoLT3TxX"
      },
      "execution_count": 25,
      "outputs": []
    }
  ]
}